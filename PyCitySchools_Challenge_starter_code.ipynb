{
 "cells": [
  {
   "cell_type": "code",
   "execution_count": 1,
   "metadata": {},
   "outputs": [],
   "source": [
    "# Dependencies and Setup\n",
    "import pandas as pd"
   ]
  },
  {
   "cell_type": "code",
   "execution_count": 2,
   "metadata": {},
   "outputs": [],
   "source": [
    "# File to load\n",
    "schools_data_to_load = r\"C:\\Users\\films\\Resources\\School_District_Analysis\\schools_complete.csv\"\n",
    "students_data_to_load = r\"C:\\Users\\films\\Resources\\School_District_Analysis\\students_complete.csv\""
   ]
  },
  {
   "cell_type": "code",
   "execution_count": 3,
   "metadata": {},
   "outputs": [],
   "source": [
    "df = pd.read_csv"
   ]
  },
  {
   "cell_type": "code",
   "execution_count": 4,
   "metadata": {},
   "outputs": [
    {
     "data": {
      "text/html": [
       "<div>\n",
       "<style scoped>\n",
       "    .dataframe tbody tr th:only-of-type {\n",
       "        vertical-align: middle;\n",
       "    }\n",
       "\n",
       "    .dataframe tbody tr th {\n",
       "        vertical-align: top;\n",
       "    }\n",
       "\n",
       "    .dataframe thead th {\n",
       "        text-align: right;\n",
       "    }\n",
       "</style>\n",
       "<table border=\"1\" class=\"dataframe\">\n",
       "  <thead>\n",
       "    <tr style=\"text-align: right;\">\n",
       "      <th></th>\n",
       "      <th>Student ID</th>\n",
       "      <th>student_name</th>\n",
       "      <th>gender</th>\n",
       "      <th>grade</th>\n",
       "      <th>school_name</th>\n",
       "      <th>reading_score</th>\n",
       "      <th>math_score</th>\n",
       "    </tr>\n",
       "  </thead>\n",
       "  <tbody>\n",
       "    <tr>\n",
       "      <th>0</th>\n",
       "      <td>0</td>\n",
       "      <td>Paul Bradley</td>\n",
       "      <td>M</td>\n",
       "      <td>9th</td>\n",
       "      <td>Huang High School</td>\n",
       "      <td>66</td>\n",
       "      <td>79</td>\n",
       "    </tr>\n",
       "    <tr>\n",
       "      <th>1</th>\n",
       "      <td>1</td>\n",
       "      <td>Victor Smith</td>\n",
       "      <td>M</td>\n",
       "      <td>12th</td>\n",
       "      <td>Huang High School</td>\n",
       "      <td>94</td>\n",
       "      <td>61</td>\n",
       "    </tr>\n",
       "    <tr>\n",
       "      <th>2</th>\n",
       "      <td>2</td>\n",
       "      <td>Kevin Rodriguez</td>\n",
       "      <td>M</td>\n",
       "      <td>12th</td>\n",
       "      <td>Huang High School</td>\n",
       "      <td>90</td>\n",
       "      <td>60</td>\n",
       "    </tr>\n",
       "    <tr>\n",
       "      <th>3</th>\n",
       "      <td>3</td>\n",
       "      <td>grade Richard Scott</td>\n",
       "      <td>M</td>\n",
       "      <td>12th</td>\n",
       "      <td>Huang High School</td>\n",
       "      <td>67</td>\n",
       "      <td>58</td>\n",
       "    </tr>\n",
       "    <tr>\n",
       "      <th>4</th>\n",
       "      <td>4</td>\n",
       "      <td>Bonnie Ray</td>\n",
       "      <td>F</td>\n",
       "      <td>9th</td>\n",
       "      <td>Huang High School</td>\n",
       "      <td>97</td>\n",
       "      <td>84</td>\n",
       "    </tr>\n",
       "    <tr>\n",
       "      <th>5</th>\n",
       "      <td>5</td>\n",
       "      <td>Bryan Miranda</td>\n",
       "      <td>M</td>\n",
       "      <td>9th</td>\n",
       "      <td>Huang High School</td>\n",
       "      <td>94</td>\n",
       "      <td>94</td>\n",
       "    </tr>\n",
       "    <tr>\n",
       "      <th>6</th>\n",
       "      <td>6</td>\n",
       "      <td>Sheena Carter</td>\n",
       "      <td>F</td>\n",
       "      <td>11th</td>\n",
       "      <td>Huang High School</td>\n",
       "      <td>82</td>\n",
       "      <td>80</td>\n",
       "    </tr>\n",
       "    <tr>\n",
       "      <th>7</th>\n",
       "      <td>7</td>\n",
       "      <td>Nicole Baker</td>\n",
       "      <td>F</td>\n",
       "      <td>12th</td>\n",
       "      <td>Huang High School</td>\n",
       "      <td>96</td>\n",
       "      <td>69</td>\n",
       "    </tr>\n",
       "    <tr>\n",
       "      <th>8</th>\n",
       "      <td>8</td>\n",
       "      <td>Michael Roth</td>\n",
       "      <td>M</td>\n",
       "      <td>10th</td>\n",
       "      <td>Huang High School</td>\n",
       "      <td>95</td>\n",
       "      <td>87</td>\n",
       "    </tr>\n",
       "    <tr>\n",
       "      <th>9</th>\n",
       "      <td>9</td>\n",
       "      <td>Matthew Greene</td>\n",
       "      <td>M</td>\n",
       "      <td>10th</td>\n",
       "      <td>Huang High School</td>\n",
       "      <td>96</td>\n",
       "      <td>84</td>\n",
       "    </tr>\n",
       "  </tbody>\n",
       "</table>\n",
       "</div>"
      ],
      "text/plain": [
       "   Student ID         student_name gender grade        school_name  \\\n",
       "0           0         Paul Bradley      M   9th  Huang High School   \n",
       "1           1         Victor Smith      M  12th  Huang High School   \n",
       "2           2      Kevin Rodriguez      M  12th  Huang High School   \n",
       "3           3  grade Richard Scott      M  12th  Huang High School   \n",
       "4           4           Bonnie Ray      F   9th  Huang High School   \n",
       "5           5        Bryan Miranda      M   9th  Huang High School   \n",
       "6           6        Sheena Carter      F  11th  Huang High School   \n",
       "7           7         Nicole Baker      F  12th  Huang High School   \n",
       "8           8         Michael Roth      M  10th  Huang High School   \n",
       "9           9       Matthew Greene      M  10th  Huang High School   \n",
       "\n",
       "   reading_score  math_score  \n",
       "0             66          79  \n",
       "1             94          61  \n",
       "2             90          60  \n",
       "3             67          58  \n",
       "4             97          84  \n",
       "5             94          94  \n",
       "6             82          80  \n",
       "7             96          69  \n",
       "8             95          87  \n",
       "9             96          84  "
      ]
     },
     "execution_count": 4,
     "metadata": {},
     "output_type": "execute_result"
    }
   ],
   "source": [
    "# Read school data and student data and store into a pandas data frame\n",
    "school_data_df = pd.read_csv(schools_data_to_load)\n",
    "student_data_df = pd.read_csv(students_data_to_load)\n",
    "\n",
    "#Cleaning Student Names and Replacing Substrings in a Pythong String\n",
    "\n",
    "# Add each prefix and suffix to remove to a list\n",
    "prefixes_suffixes = [\"Dr.\", \"Mr.\", \"Ms.\", \"Mrs.\", \"Miss\", \"MD\", \"DDS\", \"DVM\", \"PHD\"]\n",
    "\n",
    "# Iterate through the words in the \"prefixes_suffixes\" List and replace them with an empty space,\n",
    "for word in prefixes_suffixes:\n",
    "    student_data_df[\"student_name\"] = student_data_df[\"student_name\"].str.replace(word,\"grade\")\n",
    "    \n",
    "# Check names.\n",
    "student_data_df.head(10)"
   ]
  },
  {
   "cell_type": "markdown",
   "metadata": {},
   "source": [
    "## Replace the 9th grade reading and math scores at Thomas High School with NaN. "
   ]
  },
  {
   "cell_type": "code",
   "execution_count": 5,
   "metadata": {},
   "outputs": [],
   "source": [
    "# Install numpy using conda install numpy or pip install numpy. \n",
    "# Step 1. Import numpy as np.\n",
    "import numpy as np"
   ]
  },
  {
   "cell_type": "code",
   "execution_count": 6,
   "metadata": {},
   "outputs": [],
   "source": [
    "import pandas as pd"
   ]
  },
  {
   "cell_type": "code",
   "execution_count": 7,
   "metadata": {},
   "outputs": [],
   "source": [
    "# Step 2. Use the loc method on the student_data_df to select all the reading scores from the 9th grade at Thomas High School and replace them with NaN.\n",
    "student_data_df.loc[(student_data_df[\"school_name\"] == \"Thomas High School\") & (student_data_df[\"grade\"] == \"9th\"),\n",
    "                    (\"reading_scores\")] = float(\"NaN\")"
   ]
  },
  {
   "cell_type": "code",
   "execution_count": 8,
   "metadata": {},
   "outputs": [],
   "source": [
    "# Step 3. Refactor the code in Step 2 to replace the math scores with NaN\n",
    "student_data_df.loc[(student_data_df[\"school_name\"] == \"Thomas High School\") & (student_data_df[\"grade\"] == \"9th\"),\n",
    "                                    (\"reading_scores\")]= float(\"NaN\")"
   ]
  },
  {
   "cell_type": "code",
   "execution_count": 9,
   "metadata": {},
   "outputs": [
    {
     "name": "stdout",
     "output_type": "stream",
     "text": [
      "       Student ID      student_name gender grade         school_name  \\\n",
      "37537       37537       Erik Snyder      M   9th  Thomas High School   \n",
      "37538       37538    Tanya Martinez      F   9th  Thomas High School   \n",
      "37539       37539     Noah Erickson      M   9th  Thomas High School   \n",
      "37540       37540      Austin Meyer      M   9th  Thomas High School   \n",
      "37543       37543   Madison Hampton      F   9th  Thomas High School   \n",
      "...           ...               ...    ...   ...                 ...   \n",
      "39152       39152        Lori Moore      F   9th  Thomas High School   \n",
      "39153       39153   William Hubbard      M   9th  Thomas High School   \n",
      "39157       39157  Kristen Gonzalez      F   9th  Thomas High School   \n",
      "39164       39164    Joseph Anthony      M   9th  Thomas High School   \n",
      "39167       39167    Rebecca Tanner      F   9th  Thomas High School   \n",
      "\n",
      "       reading_score  math_score  reading_scores  \n",
      "37537             80          90             NaN  \n",
      "37538             71          69             NaN  \n",
      "37539             86          76             NaN  \n",
      "37540             73          96             NaN  \n",
      "37543             82          73             NaN  \n",
      "...              ...         ...             ...  \n",
      "39152             98          84             NaN  \n",
      "39153             80          75             NaN  \n",
      "39157             79          94             NaN  \n",
      "39164             97          76             NaN  \n",
      "39167             73          84             NaN  \n",
      "\n",
      "[461 rows x 8 columns]\n"
     ]
    }
   ],
   "source": [
    "#  Step 4. Check the student data for NaN's. \n",
    "print (student_data_df.loc[(student_data_df[\"school_name\"] == \"Thomas High School\") & (student_data_df[\"grade\"] == \"9th\")])"
   ]
  },
  {
   "cell_type": "code",
   "execution_count": 11,
   "metadata": {},
   "outputs": [],
   "source": [
    "student_data_df.to_csv(\"schools_complete_output.csv\", index=False)"
   ]
  }
 ],
 "metadata": {
  "anaconda-cloud": {},
  "kernel_info": {
   "name": "python3"
  },
  "kernelspec": {
   "display_name": "Python 3",
   "language": "python",
   "name": "python3"
  },
  "language_info": {
   "codemirror_mode": {
    "name": "ipython",
    "version": 3
   },
   "file_extension": ".py",
   "mimetype": "text/x-python",
   "name": "python",
   "nbconvert_exporter": "python",
   "pygments_lexer": "ipython3",
   "version": "3.8.5"
  },
  "nteract": {
   "version": "0.8.4"
  }
 },
 "nbformat": 4,
 "nbformat_minor": 4
}
